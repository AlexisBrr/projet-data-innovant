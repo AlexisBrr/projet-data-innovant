{
 "cells": [
  {
   "cell_type": "markdown",
   "metadata": {},
   "source": [
    "# Notebook Jupyter adapté pour le nettoyage et la transformation des jeu de données "
   ]
  },
  {
   "cell_type": "code",
   "execution_count": 9,
   "metadata": {},
   "outputs": [],
   "source": [
    "import json\n",
    "import csv\n",
    "import pandas as pd"
   ]
  },
  {
   "cell_type": "markdown",
   "metadata": {},
   "source": [
    "### - Jeu de données ghostbikes (accident mortel)"
   ]
  },
  {
   "cell_type": "markdown",
   "metadata": {},
   "source": [
    "##### 1. Transformation"
   ]
  },
  {
   "cell_type": "code",
   "execution_count": 8,
   "metadata": {},
   "outputs": [],
   "source": [
    "# Fonction pour charger un fichier .geojson\n",
    "def load_geojson(file_path):\n",
    "    with open(file_path, \"r\", encoding=\"utf-8\") as file:\n",
    "        return json.load(file)\n",
    "\n",
    "# Fonction pour nettoyer les données\n",
    "def clean_data(data):\n",
    "    cleaned_data = []\n",
    "    for feature in data.get(\"features\", []):\n",
    "        properties = feature.get(\"properties\", {})\n",
    "        geometry = feature.get(\"geometry\", {})\n",
    "        coordinates = geometry.get(\"coordinates\", [])\n",
    "        if len(coordinates) == 2:\n",
    "            cleaned_data.append({\n",
    "                \"id\": properties.get(\"@id\"),\n",
    "                \"lat\": coordinates[1],\n",
    "                \"lon\": coordinates[0],\n",
    "                \"start_date\": properties.get(\"start_date\")\n",
    "            })\n",
    "    return cleaned_data\n",
    "\n",
    "# Fonction pour écrire les données nettoyées dans un fichier CSV\n",
    "def write_to_csv(cleaned_data, output_file):\n",
    "    with open(output_file, mode=\"w\", newline=\"\", encoding=\"utf-8\") as file:\n",
    "        writer = csv.DictWriter(file, fieldnames=[\"id\", \"lat\", \"lon\", \"start_date\"])\n",
    "        writer.writeheader()\n",
    "        writer.writerows(cleaned_data)\n",
    "\n",
    "# Chemin d'entrée et de sortie\n",
    "input_file = \"export.geojson\"\n",
    "output_file = \"ghostbikes.csv\"\n",
    "\n",
    "# Chargement, nettoyage et exportation\n",
    "data = load_geojson(input_file)\n",
    "cleaned_data = clean_data(data)\n",
    "write_to_csv(cleaned_data, output_file)"
   ]
  },
  {
   "cell_type": "markdown",
   "metadata": {},
   "source": [
    "##### 2. Finalisation"
   ]
  },
  {
   "cell_type": "code",
   "execution_count": 11,
   "metadata": {},
   "outputs": [
    {
     "name": "stdout",
     "output_type": "stream",
     "text": [
      "            id        lat       lon  start_date statut_accident\n",
      "0   9611135117  45.180153  5.716451  2022-03-26          Mortel\n",
      "1  11002892805  45.177253  5.718046  2023-06-24          Mortel\n"
     ]
    }
   ],
   "source": [
    "data_ghostbike = pd.read_csv(\"ghostbikes.csv\", sep=\",\")\n",
    "df_ghostbike = pd.DataFrame(data_ghostbike)\n",
    "# Suppression de \"node/\" dans la colonne 'id'\n",
    "df_ghostbike[\"id\"] = df_ghostbike[\"id\"].str.replace(\"node/\", \"\")\n",
    "# Ajout de la colonne 'statut_accident' avec la valeur \"Mortel\"\n",
    "df_ghostbike[\"statut_accident\"] = \"Mortel\"\n",
    "print(df_ghostbike)"
   ]
  },
  {
   "cell_type": "markdown",
   "metadata": {},
   "source": [
    "### - Jeu de données ghostbikes (accident mortel)"
   ]
  }
 ],
 "metadata": {
  "kernelspec": {
   "display_name": "Python 3",
   "language": "python",
   "name": "python3"
  },
  "language_info": {
   "codemirror_mode": {
    "name": "ipython",
    "version": 3
   },
   "file_extension": ".py",
   "mimetype": "text/x-python",
   "name": "python",
   "nbconvert_exporter": "python",
   "pygments_lexer": "ipython3",
   "version": "3.13.0"
  }
 },
 "nbformat": 4,
 "nbformat_minor": 2
}
